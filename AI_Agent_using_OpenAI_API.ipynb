{
  "nbformat": 4,
  "nbformat_minor": 0,
  "metadata": {
    "colab": {
      "provenance": []
    },
    "kernelspec": {
      "name": "python3",
      "display_name": "Python 3"
    },
    "language_info": {
      "name": "python"
    }
  },
  "cells": [
    {
      "cell_type": "markdown",
      "source": [
        "## 🧠 AI Agent for Loan Data Insights using OpenAI API\n",
        "\n",
        "This notebook demonstrates how to build an AI-powered data assistant that answers natural language questions about loan applicants using OpenAI’s GPT model and Pandas. The agent reads structured data and provides real-time insights such as average loan amount, top income earner, and more.\n"
      ],
      "metadata": {
        "id": "q0dPo1oCPdGs"
      }
    },
    {
      "cell_type": "code",
      "execution_count": 6,
      "metadata": {
        "id": "x57cOFJDAYKG"
      },
      "outputs": [],
      "source": [
        "# Import necessary libraries\n",
        "from openai import OpenAI\n",
        "\n",
        "# Initialize OpenAI client\n",
        "\n",
        "client = OpenAI(api_key='AI_AGENT')\n"
      ]
    },
    {
      "cell_type": "code",
      "source": [
        "# Load the dataset\n",
        "import pandas as pd\n",
        "\n",
        "df = pd.read_csv('loan_prediction.csv')\n",
        "\n",
        "# Display basic info\n",
        "df.info()"
      ],
      "metadata": {
        "colab": {
          "base_uri": "https://localhost:8080/"
        },
        "id": "JwVS7tAzCvH6",
        "outputId": "cc6e2bfd-a777-4114-bb3a-55affd255c14"
      },
      "execution_count": 2,
      "outputs": [
        {
          "output_type": "stream",
          "name": "stdout",
          "text": [
            "<class 'pandas.core.frame.DataFrame'>\n",
            "RangeIndex: 614 entries, 0 to 613\n",
            "Data columns (total 13 columns):\n",
            " #   Column             Non-Null Count  Dtype  \n",
            "---  ------             --------------  -----  \n",
            " 0   Loan_ID            614 non-null    object \n",
            " 1   Gender             601 non-null    object \n",
            " 2   Married            611 non-null    object \n",
            " 3   Dependents         599 non-null    object \n",
            " 4   Education          614 non-null    object \n",
            " 5   Self_Employed      582 non-null    object \n",
            " 6   ApplicantIncome    614 non-null    int64  \n",
            " 7   CoapplicantIncome  614 non-null    float64\n",
            " 8   LoanAmount         592 non-null    float64\n",
            " 9   Loan_Amount_Term   600 non-null    float64\n",
            " 10  Credit_History     564 non-null    float64\n",
            " 11  Property_Area      614 non-null    object \n",
            " 12  Loan_Status        614 non-null    object \n",
            "dtypes: float64(4), int64(1), object(8)\n",
            "memory usage: 62.5+ KB\n"
          ]
        }
      ]
    },
    {
      "cell_type": "code",
      "source": [
        "# Function to generate a summary of the dataset structure\n",
        "def create_data_summary(df):\n",
        "    summary = f\"The dataset has {df.shape[0]} rows and {df.shape[1]} columns.\\n\"\n",
        "    summary += \"Columns:\\n\"\n",
        "    for col in df.columns:\n",
        "        summary += f\"- {col} (type: {df[col].dtype})\\n\"\n",
        "    return summary"
      ],
      "metadata": {
        "id": "AfjmkBNOC9o_"
      },
      "execution_count": 3,
      "outputs": []
    },
    {
      "cell_type": "code",
      "source": [
        "# Define the AI Agent logic with conditional handling for specific queries\n",
        "def ai_agent(user_query, df):\n",
        "    user_query = user_query.lower()\n",
        "\n",
        "    if \"average loan amount\" in user_query:\n",
        "        avg_loan = df['LoanAmount'].mean()\n",
        "        return f\"The average loan amount applied for by all applicants is ₹{avg_loan:.2f} thousand.\"\n",
        "\n",
        "    elif \"highest applicant income\" in user_query:\n",
        "        max_income = df['ApplicantIncome'].max()\n",
        "        top_applicant = df[df['ApplicantIncome'] == max_income]['Loan_ID'].values[0]\n",
        "        return f\"The applicant with the highest income has ₹{max_income} and their Loan ID is {top_applicant}.\"\n",
        "\n",
        "    elif \"self-employed\" in user_query or \"self employed\" in user_query:\n",
        "        # Safely count 'Yes' values in 'Self_Employed' column, even with missing data\n",
        "        self_employed_count = df['Self_Employed'].value_counts().get('Yes', 0)\n",
        "        return f\"The number of applicants who are self-employed is {self_employed_count}.\"\n",
        "\n",
        "    else:\n",
        "        # Default fallback to GPT-4o if it's a generic query\n",
        "        data_context = create_data_summary(df)\n",
        "        prompt = f\"\"\"\n",
        "        You are a data expert AI agent.\n",
        "        Here is a dataset summary:\n",
        "        {data_context}\n",
        "        User's question: '{user_query}'\n",
        "        Think step-by-step and give a clear final answer.\n",
        "        \"\"\"\n",
        "        response = client.chat.completions.create(\n",
        "            model=\"gpt-4o\",\n",
        "            messages=[{\"role\": \"user\", \"content\": prompt}],\n",
        "            temperature=0.2,\n",
        "            max_tokens=500\n",
        "        )\n",
        "        return response.choices[0].message.content\n"
      ],
      "metadata": {
        "id": "xD5Dyj3cDWXT"
      },
      "execution_count": 4,
      "outputs": []
    },
    {
      "cell_type": "code",
      "source": [
        "# Launch the interactive loop for querying the AI agent\n",
        "print(\"Welcome to Loan Review AI Agent!\")\n",
        "print(\"You can ask anything about the loan applicants data.\")\n",
        "print(\"Type 'exit' to quit.\")\n",
        "\n",
        "while True:\n",
        "    user_input = input(\"\\nYour question: \")\n",
        "    if user_input.lower() == \"exit\":\n",
        "        break\n",
        "    response = ai_agent(user_input, df)\n",
        "    print(\"\\nAI Agent Response:\")\n",
        "    print(response)"
      ],
      "metadata": {
        "colab": {
          "base_uri": "https://localhost:8080/"
        },
        "id": "cdTNyNyfDck6",
        "outputId": "d0cfc99d-51c7-4cb6-b477-8905b4b1eeac"
      },
      "execution_count": 5,
      "outputs": [
        {
          "name": "stdout",
          "output_type": "stream",
          "text": [
            "Welcome to Loan Review AI Agent!\n",
            "You can ask anything about the loan applicants data.\n",
            "Type 'exit' to quit.\n",
            "\n",
            "Your question: What is the average loan amount applied for by all applicants?\n",
            "\n",
            "AI Agent Response:\n",
            "The average loan amount applied for by all applicants is ₹146.41 thousand.\n",
            "\n",
            "Your question: Who has the highest applicant income?\n",
            "\n",
            "AI Agent Response:\n",
            "The applicant with the highest income has ₹81000 and their Loan ID is LP002317.\n",
            "\n",
            "Your question: How many applicants are self-employed?\n",
            "\n",
            "AI Agent Response:\n",
            "The number of applicants who are self-employed is 82.\n",
            "\n",
            "Your question: exit\n"
          ]
        }
      ]
    },
    {
      "cell_type": "markdown",
      "source": [
        "## 📌 Notes\n",
        "\n",
        "- This is a demo project using OpenAI GPT-4o and pandas.\n",
        "- It uses basic keyword parsing; more advanced intent recognition can be added.\n",
        "- Extendable to other datasets and deployed as a Streamlit app.\n",
        "\n",
        "## 🤝 Contributions\n",
        "Feel free to fork this project or raise issues if you'd like to improve or extend it!\n"
      ],
      "metadata": {
        "id": "ffGqObO6Ql96"
      }
    },
    {
      "cell_type": "code",
      "source": [],
      "metadata": {
        "id": "ojyNdY2OQnz7"
      },
      "execution_count": 5,
      "outputs": []
    }
  ]
}